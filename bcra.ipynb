{
  "nbformat": 4,
  "nbformat_minor": 0,
  "metadata": {
    "colab": {
      "name": "bcra.ipynb",
      "provenance": [],
      "collapsed_sections": []
    },
    "kernelspec": {
      "display_name": "Python 3",
      "name": "python3"
    },
    "language_info": {
      "name": "python"
    }
  },
  "cells": [
    {
      "cell_type": "code",
      "metadata": {
        "colab": {
          "base_uri": "https://localhost:8080/"
        },
        "id": "aVE4BKp74GBK",
        "outputId": "219a9d95-7c1c-4f5a-8856-b5cdc989e4fc"
      },
      "source": [
        "!pip install tabula-py"
      ],
      "execution_count": null,
      "outputs": [
        {
          "output_type": "stream",
          "text": [
            "Collecting tabula-py\n",
            "  Downloading tabula_py-2.3.0-py3-none-any.whl (12.0 MB)\n",
            "\u001b[K     |████████████████████████████████| 12.0 MB 98 kB/s \n",
            "\u001b[?25hRequirement already satisfied: pandas>=0.25.3 in /usr/local/lib/python3.7/dist-packages (from tabula-py) (1.1.5)\n",
            "Collecting distro\n",
            "  Downloading distro-1.6.0-py2.py3-none-any.whl (19 kB)\n",
            "Requirement already satisfied: numpy in /usr/local/lib/python3.7/dist-packages (from tabula-py) (1.19.5)\n",
            "Requirement already satisfied: pytz>=2017.2 in /usr/local/lib/python3.7/dist-packages (from pandas>=0.25.3->tabula-py) (2018.9)\n",
            "Requirement already satisfied: python-dateutil>=2.7.3 in /usr/local/lib/python3.7/dist-packages (from pandas>=0.25.3->tabula-py) (2.8.2)\n",
            "Requirement already satisfied: six>=1.5 in /usr/local/lib/python3.7/dist-packages (from python-dateutil>=2.7.3->pandas>=0.25.3->tabula-py) (1.15.0)\n",
            "Installing collected packages: distro, tabula-py\n",
            "Successfully installed distro-1.6.0 tabula-py-2.3.0\n"
          ],
          "name": "stdout"
        }
      ]
    },
    {
      "cell_type": "code",
      "metadata": {
        "id": "LPzSxIpctBLU"
      },
      "source": [
        "import pandas as pd\n",
        "from tabula import read_pdf\n",
        "# [top,left,bottom,width]\n",
        "box = [4,3,19,27]\n",
        "fc = 28.28\n",
        "for i in range(0, len(box)):\n",
        "   box[i] *= fc"
      ],
      "execution_count": null,
      "outputs": []
    },
    {
      "cell_type": "markdown",
      "metadata": {
        "id": "M2fMgzgunOeM"
      },
      "source": [
        "# **Prestamos de Misiones por Actividad**"
      ]
    },
    {
      "cell_type": "code",
      "metadata": {
        "id": "mDLVaeWXvo1M"
      },
      "source": [
        "def bcra(codigo):\n",
        "    box = [4,3,19,26]\n",
        "    fc = 28.28\n",
        "    for i in range(0, len(box)):\n",
        "      box[i] *= fc\n",
        "\n",
        "    path = \"http://www.bcra.gob.ar/Pdfs/PublicacionesEstadisticas/BoletinEstadistico/\" + 'boldat' + str(codigo) +\".pdf\"\n",
        "    tables = read_pdf(path, pages='314,316,318', area=[box], stream=True)\n",
        "    \n",
        "    misiones = pd.DataFrame()\n",
        "    \n",
        "    for tabla in tables:\n",
        "      misiones = pd.concat(tables)\n",
        "    misiones = misiones.rename(columns={'Unnamed: 0':'Actividad','Unnamed: 5':f'Misiones{str(codigo)}'})\n",
        "    misiones = misiones[['Actividad',f'Misiones{str(codigo)}']]\n",
        "    misiones['ID'] = range(len(misiones))\n",
        "    misiones = misiones.set_index('ID')\n",
        "\n",
        "    if codigo != 202001:\n",
        "      misiones = misiones.drop(columns='Actividad')\n",
        "\n",
        "    return misiones"
      ],
      "execution_count": null,
      "outputs": []
    },
    {
      "cell_type": "code",
      "metadata": {
        "id": "1Nfmlt0tvGw0"
      },
      "source": [
        "def misiones(codes:list):\n",
        "    primero = pd.concat([pd.DataFrame(bcra(202001))])\n",
        "    definitivo = pd.concat([pd.DataFrame(bcra(i)) for i in codes], axis=1)\n",
        "    definitivo2 = primero.merge(definitivo, how='left', on='ID') \n",
        "    return definitivo2"
      ],
      "execution_count": null,
      "outputs": []
    },
    {
      "cell_type": "code",
      "metadata": {
        "id": "08sxxlx294W2"
      },
      "source": [
        "codes = [202002, 202003, 202004, 202005, 202006, 202007, 202008, 202009, 202010, 202011, 202012, 202101, 202102, 202103, 202104, 202106, 202107]\n",
        "df = misiones(codes)\n",
        "df.head()"
      ],
      "execution_count": null,
      "outputs": []
    },
    {
      "cell_type": "markdown",
      "metadata": {
        "id": "doD_PP3fnYZM"
      },
      "source": [
        "# **Prestamos por Actividad todas las provincias**"
      ]
    },
    {
      "cell_type": "markdown",
      "metadata": {
        "id": "gERsRIGLctl9"
      },
      "source": [
        "## Funciones"
      ]
    },
    {
      "cell_type": "code",
      "metadata": {
        "id": "ME89Ke2sQ5S5"
      },
      "source": [
        "box = [4,2.8,19,27]\n",
        "fc = 28.28\n",
        "for i in range(0, len(box)):\n",
        "  box[i] *= fc\n",
        "\n",
        "box2 = [4.8,2.8,19,27]\n",
        "fc = 28.28\n",
        "for i in range(0, len(box)):\n",
        "  box2[i] *= fc"
      ],
      "execution_count": null,
      "outputs": []
    },
    {
      "cell_type": "code",
      "metadata": {
        "id": "HdBtkDHbE1gH"
      },
      "source": [
        "def provincias(codigo,pages:list,box):\n",
        "    path = \"http://www.bcra.gob.ar/Pdfs/PublicacionesEstadisticas/BoletinEstadistico/\" + 'boldat' + str(codigo) +\".pdf\"\n",
        "    tables = read_pdf(path, pages=pages, area=[box], stream=True)\n",
        "\n",
        "    tablas1 = pd.DataFrame()\n",
        "    tablas2 = pd.DataFrame()\n",
        "\n",
        "    for page in pages:\n",
        "      if page % 2 != 0:\n",
        "          tablas1 = pd.concat(tables)\n",
        "          tablas1 = tablas1.drop(columns=['(6)(7)','Unnamed: 1','Unnamed: 2','Unnamed: 4'])\n",
        "          tablas1 = tablas1.rename(columns={'Unnamed: 0':'Actividad','Unnamed: 3':'Capital Federal','Aires':'Gran Buenos Aires','Unnamed: 5':'Resto Bs As',\n",
        "                                          'Unnamed: 6':'Catamarca','Unnamed: 7':'Cordoba','Unnamed: 8':'Corrientes','Unnamed: 9':'Chaco','Unnamed: 10':'Chubut',\n",
        "                                          'Unnamed: 11':'Entre Rios','Unnamed: 12':'Formosa','Unnamed: 13':'Jujuy'})\n",
        "          tablas1['ID'] = range(len(tablas1))\n",
        "          return tablas1\n",
        "\n",
        "      else:\n",
        "        for tabla in tables:\n",
        "          if len(tabla.columns) <= 17:\n",
        "            tabla = tabla.drop(columns=['(6)(7)','Unnamed: 1'])\n",
        "            tabla = tabla.rename(columns={'Unnamed: 0':'Actividad','Unnamed: 2':'La Pampa','Unnamed: 3':'La Rioja','Unnamed: 4':'Mendoza',\n",
        "                                            'Unnamed: 5':'Misiones','Unnamed: 6':'Neuquen','Unnamed: 7':'Rio Negro','Unnamed: 8':'Salta',\n",
        "                                            'Unnamed: 9':'San Juan','Unnamed: 10':'San Luis','Unnamed: 11':'Santa Cruz','Unnamed: 12':'Santa Fe',\n",
        "                                            'Estero':'Santiago del Estero','Fuego':'Tierra del Fuego','Unnamed: 13':'Tucuman'})\n",
        "            tabla = pd.DataFrame(tabla)\n",
        "            tablas2 = tablas2.append(tabla)\n",
        "\n",
        "          elif len(tabla.columns) > 17:\n",
        "            tabla = tabla.drop(columns=['(6)(7)','Unnamed: 1','Unnamed: 13'])\n",
        "            tabla = tabla.rename(columns={'Unnamed: 0':'Actividad','Unnamed: 2':'La Pampa','Unnamed: 3':'La Rioja','Unnamed: 4':'Mendoza',\n",
        "                                          'Unnamed: 5':'Misiones','Unnamed: 6':'Neuquen','Unnamed: 7':'Rio Negro','Unnamed: 8':'Salta',\n",
        "                                          'Unnamed: 9':'San Juan','Unnamed: 10':'San Luis','Unnamed: 11':'Santa Cruz','Unnamed: 12':'Santa Fe',\n",
        "                                          'Estero':'Santiago del Estero','Fuego':'Tierra del Fuego','Unnamed: 14':'Tucuman'})\n",
        "            tabla = pd.DataFrame(tabla)\n",
        "            tablas2 = tablas2.append(tabla)\n",
        "          \n",
        "            tablas2 = tablas2.drop(columns=['Actividad'])\n",
        "            tablas2['ID'] = range(len(tablas2))\n",
        "            return tablas2"
      ],
      "execution_count": null,
      "outputs": []
    },
    {
      "cell_type": "code",
      "metadata": {
        "id": "ia0f3DjaGVfe"
      },
      "source": [
        "def provincias2(codigo,pages:list,box):\n",
        "  path = \"http://www.bcra.gob.ar/Pdfs/PublicacionesEstadisticas/BoletinEstadistico/\" + 'boldat' + str(codigo) +\".pdf\"\n",
        "  tables = read_pdf(path, pages=pages, area=[box], stream=True)\n",
        "\n",
        "  df = pd.concat(tables).reset_index(drop=True)\n",
        "  \n",
        "  if pages[0] % 2 != 0:\n",
        "    df = df.drop(columns=['(6)(7)','Unnamed: 1','Unnamed: 2','Unnamed: 4'])\n",
        "    df = df.rename(columns={'Unnamed: 0':'Actividad','Unnamed: 3':'Capital Federal','Aires':'Gran Buenos Aires','Unnamed: 5':'Resto Bs As',\n",
        "                            'Unnamed: 6':'Catamarca','Unnamed: 7':'Cordoba','Unnamed: 8':'Corrientes','Unnamed: 9':'Chaco','Unnamed: 10':'Chubut',\n",
        "                            'Unnamed: 11':'Entre Rios','Unnamed: 12':'Formosa','Unnamed: 13':'Jujuy'})\n",
        "    return df\n",
        "    \n",
        "  else:\n",
        "    df = df.drop(columns=['(6)(7)','Unnamed: 0','Unnamed: 1'])\n",
        "    df = df.rename(columns={'Unnamed: 2':'La Pampa','Unnamed: 3':'La Rioja','Unnamed: 4':'Mendoza',\n",
        "                            'Unnamed: 5':'Misiones','Unnamed: 6':'Neuquen','Unnamed: 7':'Rio Negro','Unnamed: 8':'Salta',\n",
        "                            'Unnamed: 9':'San Juan','Unnamed: 10':'San Luis','Unnamed: 11':'Santa Cruz','Unnamed: 12':'Santa Fe',\n",
        "                            'Estero':'Santiago del Estero','Fuego':'Tierra del Fuego','Unnamed: 13':'Tucuman'})\n",
        "    \n",
        "    return df"
      ],
      "execution_count": null,
      "outputs": []
    },
    {
      "cell_type": "code",
      "metadata": {
        "id": "Q-Nzw2PJYt1c"
      },
      "source": [
        "def whitespace_remover(df):\n",
        "  for i in df.columns:\n",
        "    if i != 'Actividad' and df[i].dtype == 'object':\n",
        "      df[i] = df[i].str.replace(\" \", \"\")\n",
        "    else:\n",
        "      pass\n",
        "\n",
        "  return df"
      ],
      "execution_count": null,
      "outputs": []
    },
    {
      "cell_type": "markdown",
      "metadata": {
        "id": "G_TJmUZYcxms"
      },
      "source": [
        "## Datos leídos"
      ]
    },
    {
      "cell_type": "markdown",
      "metadata": {
        "id": "CXoI7AKbcV8q"
      },
      "source": [
        "### Año 2019"
      ]
    },
    {
      "cell_type": "code",
      "metadata": {
        "id": "965RkiuEMKwg"
      },
      "source": [
        "enero2019 = provincias2(201901, pages=[307,309], box=box).merge(provincias2(201901, pages=[308,310], box=box), left_index=True, right_index=True)\n",
        "febrero2019 = provincias2(201902, pages=[307,309], box=box).merge(provincias2(201902, pages=[308,310], box=box), left_index=True, right_index=True)\n",
        "marzo2019 = provincias2(201903, pages=[307,309], box=box).merge(provincias2(201903, pages=[308,310], box=box), left_index=True, right_index=True)\n",
        "abril2019 = provincias2(201904, pages=[307,309], box=box).merge(provincias2(201904, pages=[308,310], box=box), left_index=True, right_index=True)\n",
        "mayo2019 = provincias2(201905, pages=[307,309], box=box).merge(provincias2(201905, pages=[308,310], box=box), left_index=True, right_index=True)\n",
        "junio2019 = provincias2(201906, pages=[307,309], box=box).merge(provincias2(201906, pages=[308,310], box=box), left_index=True, right_index=True)\n",
        "julio2019 = provincias2(201907, pages=[307,309], box=box).merge(provincias2(201907, pages=[308,310], box=box), left_index=True, right_index=True)\n",
        "agosto2019 = provincias2(201908, pages=[307,309], box=box).merge(provincias2(201908, pages=[308,310], box=box), left_index=True, right_index=True)\n",
        "septiembre2019 = provincias2(201909, pages=[307,309], box=box).merge(provincias2(201909, pages=[308,310], box=box), left_index=True, right_index=True)\n",
        "octubre2019 = provincias2(201910, pages=[307,309], box=box).merge(provincias2(201910, pages=[308,310], box=box), left_index=True, right_index=True)\n",
        "noviembre2019 = whitespace_remover(provincias2(201911, pages=[307,309], box=box2).merge(provincias2(201911, pages=[308,310], box=box2), left_index=True, right_index=True))\n",
        "diciembre2019 = provincias(201912, pages=[307,309], box=box).merge(provincias(201912, pages=[308,310], box=box), how='left', on='ID').drop(columns=['ID'])"
      ],
      "execution_count": null,
      "outputs": []
    },
    {
      "cell_type": "markdown",
      "metadata": {
        "id": "KuqpfrzJmSNL"
      },
      "source": [
        "### Agregamos columnas años 2019"
      ]
    },
    {
      "cell_type": "code",
      "metadata": {
        "id": "-6PQDm8qjqCZ"
      },
      "source": [
        "## Ejecutar una sola vez\n",
        "# enero2019['Año'] = 2019\n",
        "# cols = enero2019.columns.tolist()\n",
        "# cols = cols[-1:] + cols[:-1]\n",
        "# enero2019 = enero2019[cols]\n",
        "\n",
        "# febrero2019['Año'] = 2019\n",
        "# cols = febrero2019.columns.tolist()\n",
        "# cols = cols[-1:] + cols[:-1]\n",
        "# febrero2019 = febrero2019[cols]\n",
        "\n",
        "# marzo2019['Año'] = 2019\n",
        "# cols = marzo2019.columns.tolist()\n",
        "# cols = cols[-1:] + cols[:-1]\n",
        "# marzo2019 = marzo2019[cols]\n",
        "\n",
        "# abril2019['Año'] = 2019\n",
        "# cols = abril2019.columns.tolist()\n",
        "# cols = cols[-1:] + cols[:-1]\n",
        "# abril2019 = abril2019[cols]\n",
        "\n",
        "# mayo2019['Año'] = 2019\n",
        "# cols = mayo2019.columns.tolist()\n",
        "# cols = cols[-1:] + cols[:-1]\n",
        "# mayo2019 = mayo2019[cols]\n",
        "\n",
        "# junio2019['Año'] = 2019\n",
        "# cols = junio2019.columns.tolist()\n",
        "# cols = cols[-1:] + cols[:-1]\n",
        "# junio2019 = junio2019[cols]\n",
        "\n",
        "# julio2019['Año'] = 2019\n",
        "# cols = julio2019.columns.tolist()\n",
        "# cols = cols[-1:] + cols[:-1]\n",
        "# julio2019 = julio2019[cols]\n",
        "\n",
        "# agosto2019['Año'] = 2019\n",
        "# cols = agosto2019.columns.tolist()\n",
        "# cols = cols[-1:] + cols[:-1]\n",
        "# agosto2019 = agosto2019[cols]\n",
        "\n",
        "# septiembre2019['Año'] = 2019\n",
        "# cols = septiembre2019.columns.tolist()\n",
        "# cols = cols[-1:] + cols[:-1]\n",
        "# septiembre2019 = septiembre2019[cols]\n",
        "\n",
        "# octubre2019['Año'] = 2019\n",
        "# cols = octubre2019.columns.tolist()\n",
        "# cols = cols[-1:] + cols[:-1]\n",
        "# octubre2019 = octubre2019[cols]\n",
        "\n",
        "# noviembre2019['Año'] = 2019\n",
        "# cols = noviembre2019.columns.tolist()\n",
        "# cols = cols[-1:] + cols[:-1]\n",
        "# noviembre2019 = noviembre2019[cols]\n",
        "\n",
        "# diciembre2019['Año'] = 2019\n",
        "# cols = diciembre2019.columns.tolist()\n",
        "# cols = cols[-1:] + cols[:-1]\n",
        "# diciembre2019 = diciembre2019[cols]"
      ],
      "execution_count": null,
      "outputs": []
    },
    {
      "cell_type": "markdown",
      "metadata": {
        "id": "fkAcNmf_cYvJ"
      },
      "source": [
        "### Año 2020"
      ]
    },
    {
      "cell_type": "code",
      "metadata": {
        "id": "cWBEFVKtGwe-"
      },
      "source": [
        "enero2020 = provincias(202001, pages=[307,309], box=box).merge(provincias(202001, pages=[308,310], box=box), how='left', on='ID').drop(columns=['ID'])\n",
        "febrero2020 = provincias(202002, pages=[307,309], box=box).merge(provincias(202002, pages=[308,310], box=box), how='left', on='ID').drop(columns=['ID'])\n",
        "marzo2020 = provincias(202003, pages=[307,309], box=box).merge(provincias(202003, pages=[308,310], box=box), how='left', on='ID').drop(columns=['ID'])\n",
        "abril2020 = provincias(202004, pages=[307,309], box=box).merge(provincias(202004, pages=[308,310], box=box), how='left', on='ID').drop(columns=['ID'])\n",
        "mayo2020 = provincias(202005, pages=[307,309], box=box).merge(provincias(202005, pages=[308,310], box=box), how='left', on='ID').drop(columns=['ID'])\n",
        "junio2020 = provincias(202006, pages=[309,311], box=box).merge(provincias(202006, pages=[310,312], box=box), how='left', on='ID').drop(columns=['ID'])\n",
        "julio2020 = provincias(202007, pages=[309,311], box=box).merge(provincias(202007, pages=[310,312], box=box), how='left', on='ID').drop(columns=['ID'])\n",
        "agosto2020 = provincias(202008, pages=[309,311], box=box).merge(provincias(202008, pages=[310,312], box=box), how='left', on='ID').drop(columns=['ID'])\n",
        "septiembre2020 = provincias(202009, pages=[313,315], box=box).merge(provincias(202009, pages=[314,316], box=box), how='left', on='ID').drop(columns=['ID'])\n",
        "octubre2020 = provincias(202010, pages=[313,315], box=box).merge(provincias(202010, pages=[314,316], box=box), how='left', on='ID').drop(columns=['ID'])\n",
        "noviembre2020 = provincias(202011, pages=[313,315], box=box).merge(provincias(202011, pages=[314,316], box=box), how='left', on='ID').drop(columns=['ID'])\n",
        "diciembre2020 = provincias(202012, pages=[313,315], box=box).merge(provincias(202012, pages=[314,316], box=box), how='left', on='ID').drop(columns=['ID'])"
      ],
      "execution_count": null,
      "outputs": []
    },
    {
      "cell_type": "markdown",
      "metadata": {
        "id": "m6dhywSYmdrk"
      },
      "source": [
        "### Agregamos columnas años 2020"
      ]
    },
    {
      "cell_type": "code",
      "metadata": {
        "id": "HFjVEbLxmh9M"
      },
      "source": [
        "# enero2020['Año'] = 2020\n",
        "# cols = enero2020.columns.tolist()\n",
        "# cols = cols[-1:] + cols[:-1]\n",
        "# enero2020 = enero2020[cols]\n",
        "\n",
        "# febrero2020['Año'] = 2020\n",
        "# cols = febrero2020.columns.tolist()\n",
        "# cols = cols[-1:] + cols[:-1]\n",
        "# febrero2020 = febrero2020[cols]\n",
        "\n",
        "# marzo2020['Año'] = 2020\n",
        "# cols = marzo2020.columns.tolist()\n",
        "# cols = cols[-1:] + cols[:-1]\n",
        "# marzo2020 = marzo2020[cols]\n",
        "\n",
        "# abril2020['Año'] = 2020\n",
        "# cols = abril2020.columns.tolist()\n",
        "# cols = cols[-1:] + cols[:-1]\n",
        "# abril2020 = abril2020[cols]\n",
        "\n",
        "# mayo2020['Año'] = 2020\n",
        "# cols = mayo2020.columns.tolist()\n",
        "# cols = cols[-1:] + cols[:-1]\n",
        "# mayo2020 = mayo2020[cols]\n",
        "\n",
        "# junio2020['Año'] = 2020\n",
        "# cols = junio2020.columns.tolist()\n",
        "# cols = cols[-1:] + cols[:-1]\n",
        "# junio2020 = junio2020[cols]\n",
        "\n",
        "# julio2020['Año'] = 2020\n",
        "# cols = julio2020.columns.tolist()\n",
        "# cols = cols[-1:] + cols[:-1]\n",
        "# julio2020 = julio2020[cols]\n",
        "\n",
        "# agosto2020['Año'] = 2020\n",
        "# cols = agosto2020.columns.tolist()\n",
        "# cols = cols[-1:] + cols[:-1]\n",
        "# agosto2020 = agosto2020[cols]\n",
        "\n",
        "# septiembre2020['Año'] = 2020\n",
        "# cols = septiembre2020.columns.tolist()\n",
        "# cols = cols[-1:] + cols[:-1]\n",
        "# septiembre2020 = septiembre2020[cols]\n",
        "\n",
        "# octubre2020['Año'] = 2020\n",
        "# cols = octubre2020.columns.tolist()\n",
        "# cols = cols[-1:] + cols[:-1]\n",
        "# octubre2020 = octubre2020[cols]\n",
        "\n",
        "# noviembre2020['Año'] = 2020\n",
        "# cols = noviembre2020.columns.tolist()\n",
        "# cols = cols[-1:] + cols[:-1]\n",
        "# noviembre2020 = noviembre2020[cols]\n",
        "\n",
        "# diciembre2020['Año'] = 2020\n",
        "# cols = diciembre2020.columns.tolist()\n",
        "# cols = cols[-1:] + cols[:-1]\n",
        "# diciembre2020 = diciembre2020[cols]"
      ],
      "execution_count": null,
      "outputs": []
    },
    {
      "cell_type": "markdown",
      "metadata": {
        "id": "ClvuRfvrGzyu"
      },
      "source": [
        "### Año 2021"
      ]
    },
    {
      "cell_type": "code",
      "metadata": {
        "id": "FTHLAOtnG4qu"
      },
      "source": [
        "enero2021 = provincias(202101, pages=[313,315], box=box).merge(provincias(202101, pages=[314,316], box=box), how='left', on='ID').drop(columns=['ID'])\n",
        "febrero2021 = provincias(202102, pages=[313,315], box=box).merge(provincias(202102, pages=[314,316], box=box), how='left', on='ID').drop(columns=['ID'])\n",
        "marzo2021 = provincias(202103, pages=[313,315], box=box).merge(provincias(202103, pages=[314,316], box=box), how='left', on='ID').drop(columns=['ID'])\n",
        "abril2021 = provincias(202104, pages=[313,315], box=box).merge(provincias(202104, pages=[314,316], box=box), how='left', on='ID').drop(columns=['ID'])\n",
        "mayo2021 = provincias2(202105, pages=[313,315], box=box2).merge(provincias2(202105, pages=[314,316], box=box2), left_index=True, right_index=True)\n",
        "junio2021 = provincias2(202106, pages=[313,315], box=box).merge(provincias2(202106, pages=[314,316], box=box), left_index=True, right_index=True)"
      ],
      "execution_count": null,
      "outputs": []
    },
    {
      "cell_type": "markdown",
      "metadata": {
        "id": "YiePY0mFoP_-"
      },
      "source": [
        "### Agregamos columnas años 2021"
      ]
    },
    {
      "cell_type": "code",
      "metadata": {
        "id": "xDNHmzqboTts"
      },
      "source": [
        "# enero2021['Año'] = 2021\n",
        "# cols = enero2021.columns.tolist()\n",
        "# cols = cols[-1:] + cols[:-1]\n",
        "# enero2021 = enero2021[cols]\n",
        "\n",
        "# febrero2021['Año'] = 2021\n",
        "# cols = febrero2021.columns.tolist()\n",
        "# cols = cols[-1:] + cols[:-1]\n",
        "# febrero2021 = febrero2021[cols]\n",
        "\n",
        "# marzo2021['Año'] = 2021\n",
        "# cols = marzo2021.columns.tolist()\n",
        "# cols = cols[-1:] + cols[:-1]\n",
        "# marzo2020 = marzo2021[cols]\n",
        "\n",
        "# abril2021['Año'] = 2021\n",
        "# cols = abril2021.columns.tolist()\n",
        "# cols = cols[-1:] + cols[:-1]\n",
        "# abril2021 = abril2021[cols]\n",
        "\n",
        "# mayo2021['Año'] = 2021\n",
        "# cols = mayo2021.columns.tolist()\n",
        "# cols = cols[-1:] + cols[:-1]\n",
        "# mayo2021 = mayo2021[cols]\n",
        "\n",
        "# junio2021['Año'] = 2021\n",
        "# cols = junio2021.columns.tolist()\n",
        "# cols = cols[-1:] + cols[:-1]\n",
        "# junio2021 = junio2021[cols]"
      ],
      "execution_count": null,
      "outputs": []
    },
    {
      "cell_type": "markdown",
      "metadata": {
        "id": "rSNqjIjBvnRn"
      },
      "source": [
        "## DataFrame con todos los datos"
      ]
    },
    {
      "cell_type": "code",
      "metadata": {
        "id": "uRhp6yThuKI2"
      },
      "source": [
        "dfs = [enero2019,febrero2019,marzo2019,abril2019,mayo2019,junio2019,julio2019,agosto2019,septiembre2019,octubre2019,noviembre2019,diciembre2019,\n",
        "       enero2020,febrero2020,marzo2020,abril2020,mayo2020,junio2020,julio2020,agosto2020,septiembre2020,octubre2020,noviembre2020,diciembre2020,\n",
        "       enero2021,febrero2021,marzo2021,abril2021,mayo2021,junio2021]"
      ],
      "execution_count": null,
      "outputs": []
    },
    {
      "cell_type": "code",
      "metadata": {
        "id": "O6fQd5LeumDo"
      },
      "source": [
        "dfs = pd.concat(dfs)\n",
        "dfs"
      ],
      "execution_count": null,
      "outputs": []
    },
    {
      "cell_type": "code",
      "metadata": {
        "id": "28zbeAOBvstH"
      },
      "source": [
        "dfs.to_csv('/content/drive/MyDrive/Ministerio del Agro/Prestamos BCRA/Prestamos', sep=';')"
      ],
      "execution_count": null,
      "outputs": []
    }
  ]
}